{
 "cells": [
  {
   "cell_type": "markdown",
   "id": "e05704b2-85c0-48e9-a605-146e29b3ee23",
   "metadata": {},
   "source": [
    "### ML - Task3 - Data Preprocessing\r\n",
    "Objective:\r\n",
    " The main objective of this project is to design and implement a robust data preprocessing system that addresses common challenges such as missing values, outliers, inconsistent formatting, and noise. By performing effective data preprocessing, the project aims to enhance the quality, reliability, and usefulness of the data for machine learning.\r\n",
    "Dataset:     Dataset for Data preprocessing\r\n",
    "Key Components to be fulfilled:\r\n",
    "Data Exploration:   Explore the data, list down the unique values in each feature and find its length. Perform the statistical analysis and renaming of the columns.\r\n",
    "Data Cleaning: \r\n",
    "Find the missing and inappropriate values, treat them appropriately. Remove all duplicate rows. Find the outliers.\r\n",
    "Replace the value 0 in age as NaN\r\n",
    "Treat the null values in all columns using any measures(removing/ replace the values with mean/median/mode)\r\n",
    "Data Analysis:\r\n",
    "Filter the data with age >40 and salary<5000\r\n",
    "Plot the chart with age and salary\r\n",
    "Count the number of people from each place and represent it visually\r\n",
    "Data Encoding:\r\n",
    "Convert categorical variables into numerical representations using techniques such as one-hot encoding, label encoding, making them suitable for analysis by machine learning algorithms.\r\n",
    "Feature Scaling: \r\n",
    "After the process of encoding, perform the scaling of the features usingnd MinMaxScalar.nks in the thread\r\n",
    " "
   ]
  },
  {
   "cell_type": "code",
   "execution_count": 34,
   "id": "64865139-3020-4450-b046-47dab8da7f43",
   "metadata": {},
   "outputs": [
    {
     "name": "stdout",
     "output_type": "stream",
     "text": [
      "Requirement already satisfied: scikit-learn in c:\\users\\user\\appdata\\local\\programs\\python\\python311\\lib\\site-packages (1.4.2)Note: you may need to restart the kernel to use updated packages.\n"
     ]
    },
    {
     "name": "stderr",
     "output_type": "stream",
     "text": [
      "\n",
      "[notice] A new release of pip is available: 23.2.1 -> 24.0\n",
      "[notice] To update, run: python.exe -m pip install --upgrade pip\n"
     ]
    },
    {
     "name": "stdout",
     "output_type": "stream",
     "text": [
      "\n",
      "Requirement already satisfied: numpy>=1.19.5 in c:\\users\\user\\appdata\\local\\programs\\python\\python311\\lib\\site-packages (from scikit-learn) (1.26.2)\n",
      "Requirement already satisfied: scipy>=1.6.0 in c:\\users\\user\\appdata\\local\\programs\\python\\python311\\lib\\site-packages (from scikit-learn) (1.13.0)\n",
      "Requirement already satisfied: joblib>=1.2.0 in c:\\users\\user\\appdata\\local\\programs\\python\\python311\\lib\\site-packages (from scikit-learn) (1.4.2)\n",
      "Requirement already satisfied: threadpoolctl>=2.0.0 in c:\\users\\user\\appdata\\local\\programs\\python\\python311\\lib\\site-packages (from scikit-learn) (3.5.0)\n"
     ]
    }
   ],
   "source": [
    "pip install scikit-learn"
   ]
  },
  {
   "cell_type": "code",
   "execution_count": 1,
   "id": "f2be7d80-c5b4-49c8-936c-7664d396dd7d",
   "metadata": {},
   "outputs": [],
   "source": [
    "#importing important libraries\n",
    "import pandas as pd\n",
    "import numpy as np"
   ]
  },
  {
   "cell_type": "code",
   "execution_count": 2,
   "id": "b4646b8c-4314-4a7c-a5f5-32d716f0eb33",
   "metadata": {},
   "outputs": [],
   "source": [
    "#loading dataset\n",
    "df=pd.read_csv('employee.csv')"
   ]
  },
  {
   "cell_type": "markdown",
   "id": "935f1ed3-de10-4e03-a75b-3a21bec2b396",
   "metadata": {},
   "source": [
    "### <font color='red'>1. Data Exploration</font> "
   ]
  },
  {
   "cell_type": "code",
   "execution_count": 67,
   "id": "ace90bf3-bf2c-4eee-bfdb-7e02c3925c89",
   "metadata": {},
   "outputs": [
    {
     "data": {
      "text/html": [
       "<div>\n",
       "<style scoped>\n",
       "    .dataframe tbody tr th:only-of-type {\n",
       "        vertical-align: middle;\n",
       "    }\n",
       "\n",
       "    .dataframe tbody tr th {\n",
       "        vertical-align: top;\n",
       "    }\n",
       "\n",
       "    .dataframe thead th {\n",
       "        text-align: right;\n",
       "    }\n",
       "</style>\n",
       "<table border=\"1\" class=\"dataframe\">\n",
       "  <thead>\n",
       "    <tr style=\"text-align: right;\">\n",
       "      <th></th>\n",
       "      <th>Company</th>\n",
       "      <th>Age</th>\n",
       "      <th>Salary</th>\n",
       "      <th>Place</th>\n",
       "      <th>Country</th>\n",
       "      <th>Gender</th>\n",
       "    </tr>\n",
       "  </thead>\n",
       "  <tbody>\n",
       "    <tr>\n",
       "      <th>0</th>\n",
       "      <td>4</td>\n",
       "      <td>20.0</td>\n",
       "      <td>5000.0</td>\n",
       "      <td>2</td>\n",
       "      <td>0</td>\n",
       "      <td>0</td>\n",
       "    </tr>\n",
       "    <tr>\n",
       "      <th>1</th>\n",
       "      <td>2</td>\n",
       "      <td>30.0</td>\n",
       "      <td>5000.0</td>\n",
       "      <td>6</td>\n",
       "      <td>0</td>\n",
       "      <td>0</td>\n",
       "    </tr>\n",
       "    <tr>\n",
       "      <th>2</th>\n",
       "      <td>4</td>\n",
       "      <td>35.0</td>\n",
       "      <td>2300.0</td>\n",
       "      <td>1</td>\n",
       "      <td>0</td>\n",
       "      <td>0</td>\n",
       "    </tr>\n",
       "    <tr>\n",
       "      <th>3</th>\n",
       "      <td>2</td>\n",
       "      <td>40.0</td>\n",
       "      <td>3000.0</td>\n",
       "      <td>4</td>\n",
       "      <td>0</td>\n",
       "      <td>0</td>\n",
       "    </tr>\n",
       "    <tr>\n",
       "      <th>4</th>\n",
       "      <td>4</td>\n",
       "      <td>23.0</td>\n",
       "      <td>4000.0</td>\n",
       "      <td>6</td>\n",
       "      <td>0</td>\n",
       "      <td>0</td>\n",
       "    </tr>\n",
       "  </tbody>\n",
       "</table>\n",
       "</div>"
      ],
      "text/plain": [
       "   Company   Age  Salary  Place  Country  Gender\n",
       "0        4  20.0  5000.0      2        0       0\n",
       "1        2  30.0  5000.0      6        0       0\n",
       "2        4  35.0  2300.0      1        0       0\n",
       "3        2  40.0  3000.0      4        0       0\n",
       "4        4  23.0  4000.0      6        0       0"
      ]
     },
     "execution_count": 67,
     "metadata": {},
     "output_type": "execute_result"
    }
   ],
   "source": [
    "df.head()"
   ]
  },
  {
   "cell_type": "code",
   "execution_count": 7,
   "id": "80282ac5-0712-4e8d-8bf2-b8076785d321",
   "metadata": {},
   "outputs": [
    {
     "name": "stdout",
     "output_type": "stream",
     "text": [
      "<class 'pandas.core.frame.DataFrame'>\n",
      "RangeIndex: 148 entries, 0 to 147\n",
      "Data columns (total 6 columns):\n",
      " #   Column   Non-Null Count  Dtype  \n",
      "---  ------   --------------  -----  \n",
      " 0   Company  140 non-null    object \n",
      " 1   Age      130 non-null    float64\n",
      " 2   Salary   124 non-null    float64\n",
      " 3   Place    134 non-null    object \n",
      " 4   Country  148 non-null    object \n",
      " 5   Gender   148 non-null    int64  \n",
      "dtypes: float64(2), int64(1), object(3)\n",
      "memory usage: 7.1+ KB\n"
     ]
    }
   ],
   "source": [
    "df.info()"
   ]
  },
  {
   "cell_type": "code",
   "execution_count": 8,
   "id": "0faf403a-5e8b-4e75-8b06-c5e00949f0c8",
   "metadata": {},
   "outputs": [
    {
     "name": "stdout",
     "output_type": "stream",
     "text": [
      "unique values in Company : ['TCS' 'Infosys' 'CTS' nan 'Tata Consultancy Services' 'Congnizant'\n",
      " 'Infosys Pvt Lmt']\n",
      "length:7\n",
      "unique values in Age : [20. 30. 35. 40. 23. nan 34. 45. 18. 22. 32. 37. 50. 21. 46. 36. 26. 41.\n",
      " 24. 25. 43. 19. 38. 51. 31. 44. 33. 17.  0. 54.]\n",
      "length:30\n",
      "unique values in Salary : [  nan 2300. 3000. 4000. 5000. 6000. 7000. 8000. 9000. 1089. 1234. 3030.\n",
      " 3045. 3184. 4824. 5835. 7084. 8943. 8345. 9284. 9876. 2034. 7654. 2934.\n",
      " 4034. 5034. 8202. 9024. 4345. 6544. 6543. 3234. 4324. 5435. 5555. 8787.\n",
      " 3454. 5654. 5009. 5098. 3033.]\n",
      "length:41\n",
      "unique values in Place : ['Chennai' 'Mumbai' 'Calcutta' 'Delhi' 'Podicherry' 'Cochin' nan 'Noida'\n",
      " 'Hyderabad' 'Bhopal' 'Nagpur' 'Pune']\n",
      "length:12\n",
      "unique values in Country : ['India']\n",
      "length:1\n",
      "unique values in Gender : [0 1]\n",
      "length:2\n"
     ]
    }
   ],
   "source": [
    "#listing down the unique values in each feature and finding its length\n",
    "for column in df.columns:\n",
    "    unique_values=df[column].unique()\n",
    "    print(f'unique values in {column} : {unique_values}')\n",
    "    print(f'length:{len(unique_values)}')\n",
    "    "
   ]
  },
  {
   "cell_type": "code",
   "execution_count": 9,
   "id": "552b50f1-299c-46af-a1a9-ea0c1a35ed4e",
   "metadata": {},
   "outputs": [
    {
     "data": {
      "text/html": [
       "<div>\n",
       "<style scoped>\n",
       "    .dataframe tbody tr th:only-of-type {\n",
       "        vertical-align: middle;\n",
       "    }\n",
       "\n",
       "    .dataframe tbody tr th {\n",
       "        vertical-align: top;\n",
       "    }\n",
       "\n",
       "    .dataframe thead th {\n",
       "        text-align: right;\n",
       "    }\n",
       "</style>\n",
       "<table border=\"1\" class=\"dataframe\">\n",
       "  <thead>\n",
       "    <tr style=\"text-align: right;\">\n",
       "      <th></th>\n",
       "      <th>Age</th>\n",
       "      <th>Salary</th>\n",
       "      <th>Gender</th>\n",
       "    </tr>\n",
       "  </thead>\n",
       "  <tbody>\n",
       "    <tr>\n",
       "      <th>count</th>\n",
       "      <td>130.000000</td>\n",
       "      <td>124.000000</td>\n",
       "      <td>148.000000</td>\n",
       "    </tr>\n",
       "    <tr>\n",
       "      <th>mean</th>\n",
       "      <td>30.484615</td>\n",
       "      <td>5312.467742</td>\n",
       "      <td>0.222973</td>\n",
       "    </tr>\n",
       "    <tr>\n",
       "      <th>std</th>\n",
       "      <td>11.096640</td>\n",
       "      <td>2573.764683</td>\n",
       "      <td>0.417654</td>\n",
       "    </tr>\n",
       "    <tr>\n",
       "      <th>min</th>\n",
       "      <td>0.000000</td>\n",
       "      <td>1089.000000</td>\n",
       "      <td>0.000000</td>\n",
       "    </tr>\n",
       "    <tr>\n",
       "      <th>25%</th>\n",
       "      <td>22.000000</td>\n",
       "      <td>3030.000000</td>\n",
       "      <td>0.000000</td>\n",
       "    </tr>\n",
       "    <tr>\n",
       "      <th>50%</th>\n",
       "      <td>32.500000</td>\n",
       "      <td>5000.000000</td>\n",
       "      <td>0.000000</td>\n",
       "    </tr>\n",
       "    <tr>\n",
       "      <th>75%</th>\n",
       "      <td>37.750000</td>\n",
       "      <td>8000.000000</td>\n",
       "      <td>0.000000</td>\n",
       "    </tr>\n",
       "    <tr>\n",
       "      <th>max</th>\n",
       "      <td>54.000000</td>\n",
       "      <td>9876.000000</td>\n",
       "      <td>1.000000</td>\n",
       "    </tr>\n",
       "  </tbody>\n",
       "</table>\n",
       "</div>"
      ],
      "text/plain": [
       "              Age       Salary      Gender\n",
       "count  130.000000   124.000000  148.000000\n",
       "mean    30.484615  5312.467742    0.222973\n",
       "std     11.096640  2573.764683    0.417654\n",
       "min      0.000000  1089.000000    0.000000\n",
       "25%     22.000000  3030.000000    0.000000\n",
       "50%     32.500000  5000.000000    0.000000\n",
       "75%     37.750000  8000.000000    0.000000\n",
       "max     54.000000  9876.000000    1.000000"
      ]
     },
     "execution_count": 9,
     "metadata": {},
     "output_type": "execute_result"
    }
   ],
   "source": [
    "### Performing the statistical analysis \n",
    "df.describe()\n"
   ]
  },
  {
   "cell_type": "code",
   "execution_count": null,
   "id": "b07d049b-5278-4d06-b8a6-b9abd92e487e",
   "metadata": {},
   "outputs": [],
   "source": [
    "### renaming of the columns\n"
   ]
  },
  {
   "cell_type": "markdown",
   "id": "b14a8b88-a661-4bfa-9239-6ecb9bb3c568",
   "metadata": {},
   "source": [
    "### <font color='red'>2.Data Cleaning </font> "
   ]
  },
  {
   "cell_type": "code",
   "execution_count": 10,
   "id": "d2242bd1-f916-4e2c-b724-74532f2d1e18",
   "metadata": {},
   "outputs": [
    {
     "name": "stdout",
     "output_type": "stream",
     "text": [
      "null values in Company :8\n",
      "null values in Age :18\n",
      "null values in Salary :24\n",
      "null values in Place :14\n",
      "null values in Country :0\n",
      "null values in Gender :0\n"
     ]
    }
   ],
   "source": [
    "#Find the missing and inappropriate values and treating them appropriately\n",
    "for column in df.columns:\n",
    "    null_values=df[column].isnull().sum()\n",
    "    print(f'null values in {column} :{null_values}')\n"
   ]
  },
  {
   "cell_type": "markdown",
   "id": "6257983c-d618-41b9-9ae4-890354f7b139",
   "metadata": {},
   "source": [
    "### There are 8 null values in company,18 null values in Age ,24 null values in Salary and 14 null values in place."
   ]
  },
  {
   "cell_type": "code",
   "execution_count": 11,
   "id": "9d28c842-b467-4b7c-9400-001e55b048ae",
   "metadata": {},
   "outputs": [
    {
     "data": {
      "text/html": [
       "<div>\n",
       "<style scoped>\n",
       "    .dataframe tbody tr th:only-of-type {\n",
       "        vertical-align: middle;\n",
       "    }\n",
       "\n",
       "    .dataframe tbody tr th {\n",
       "        vertical-align: top;\n",
       "    }\n",
       "\n",
       "    .dataframe thead th {\n",
       "        text-align: right;\n",
       "    }\n",
       "</style>\n",
       "<table border=\"1\" class=\"dataframe\">\n",
       "  <thead>\n",
       "    <tr style=\"text-align: right;\">\n",
       "      <th></th>\n",
       "      <th>Company</th>\n",
       "      <th>Age</th>\n",
       "      <th>Salary</th>\n",
       "      <th>Place</th>\n",
       "      <th>Country</th>\n",
       "      <th>Gender</th>\n",
       "    </tr>\n",
       "  </thead>\n",
       "  <tbody>\n",
       "    <tr>\n",
       "      <th>0</th>\n",
       "      <td>TCS</td>\n",
       "      <td>20.0</td>\n",
       "      <td>NaN</td>\n",
       "      <td>Chennai</td>\n",
       "      <td>India</td>\n",
       "      <td>0</td>\n",
       "    </tr>\n",
       "    <tr>\n",
       "      <th>1</th>\n",
       "      <td>Infosys</td>\n",
       "      <td>30.0</td>\n",
       "      <td>NaN</td>\n",
       "      <td>Mumbai</td>\n",
       "      <td>India</td>\n",
       "      <td>0</td>\n",
       "    </tr>\n",
       "    <tr>\n",
       "      <th>2</th>\n",
       "      <td>TCS</td>\n",
       "      <td>35.0</td>\n",
       "      <td>2300.0</td>\n",
       "      <td>Calcutta</td>\n",
       "      <td>India</td>\n",
       "      <td>0</td>\n",
       "    </tr>\n",
       "    <tr>\n",
       "      <th>3</th>\n",
       "      <td>Infosys</td>\n",
       "      <td>40.0</td>\n",
       "      <td>3000.0</td>\n",
       "      <td>Delhi</td>\n",
       "      <td>India</td>\n",
       "      <td>0</td>\n",
       "    </tr>\n",
       "    <tr>\n",
       "      <th>4</th>\n",
       "      <td>TCS</td>\n",
       "      <td>23.0</td>\n",
       "      <td>4000.0</td>\n",
       "      <td>Mumbai</td>\n",
       "      <td>India</td>\n",
       "      <td>0</td>\n",
       "    </tr>\n",
       "    <tr>\n",
       "      <th>...</th>\n",
       "      <td>...</td>\n",
       "      <td>...</td>\n",
       "      <td>...</td>\n",
       "      <td>...</td>\n",
       "      <td>...</td>\n",
       "      <td>...</td>\n",
       "    </tr>\n",
       "    <tr>\n",
       "      <th>142</th>\n",
       "      <td>Infosys Pvt Lmt</td>\n",
       "      <td>22.0</td>\n",
       "      <td>8202.0</td>\n",
       "      <td>Mumbai</td>\n",
       "      <td>India</td>\n",
       "      <td>0</td>\n",
       "    </tr>\n",
       "    <tr>\n",
       "      <th>143</th>\n",
       "      <td>TCS</td>\n",
       "      <td>33.0</td>\n",
       "      <td>9024.0</td>\n",
       "      <td>Calcutta</td>\n",
       "      <td>India</td>\n",
       "      <td>1</td>\n",
       "    </tr>\n",
       "    <tr>\n",
       "      <th>145</th>\n",
       "      <td>Infosys</td>\n",
       "      <td>44.0</td>\n",
       "      <td>4034.0</td>\n",
       "      <td>Delhi</td>\n",
       "      <td>India</td>\n",
       "      <td>1</td>\n",
       "    </tr>\n",
       "    <tr>\n",
       "      <th>146</th>\n",
       "      <td>TCS</td>\n",
       "      <td>33.0</td>\n",
       "      <td>5034.0</td>\n",
       "      <td>Mumbai</td>\n",
       "      <td>India</td>\n",
       "      <td>1</td>\n",
       "    </tr>\n",
       "    <tr>\n",
       "      <th>147</th>\n",
       "      <td>Infosys</td>\n",
       "      <td>22.0</td>\n",
       "      <td>8202.0</td>\n",
       "      <td>Cochin</td>\n",
       "      <td>India</td>\n",
       "      <td>0</td>\n",
       "    </tr>\n",
       "  </tbody>\n",
       "</table>\n",
       "<p>144 rows × 6 columns</p>\n",
       "</div>"
      ],
      "text/plain": [
       "             Company   Age  Salary     Place Country  Gender\n",
       "0                TCS  20.0     NaN   Chennai   India       0\n",
       "1            Infosys  30.0     NaN    Mumbai   India       0\n",
       "2                TCS  35.0  2300.0  Calcutta   India       0\n",
       "3            Infosys  40.0  3000.0     Delhi   India       0\n",
       "4                TCS  23.0  4000.0    Mumbai   India       0\n",
       "..               ...   ...     ...       ...     ...     ...\n",
       "142  Infosys Pvt Lmt  22.0  8202.0    Mumbai   India       0\n",
       "143              TCS  33.0  9024.0  Calcutta   India       1\n",
       "145          Infosys  44.0  4034.0     Delhi   India       1\n",
       "146              TCS  33.0  5034.0    Mumbai   India       1\n",
       "147          Infosys  22.0  8202.0    Cochin   India       0\n",
       "\n",
       "[144 rows x 6 columns]"
      ]
     },
     "execution_count": 11,
     "metadata": {},
     "output_type": "execute_result"
    }
   ],
   "source": [
    "#removing duplicate rows\n",
    "df.drop_duplicates()"
   ]
  },
  {
   "cell_type": "code",
   "execution_count": 4,
   "id": "015392aa-fa1e-42af-8cce-ecc75ca76d21",
   "metadata": {},
   "outputs": [
    {
     "data": {
      "text/plain": [
       "array([20., 30., 35., 40., 23., nan, 34., 45., 18., 22., 32., 37., 50.,\n",
       "       21., 46., 36., 26., 41., 24., 25., 43., 19., 38., 51., 31., 44.,\n",
       "       33., 17., 54.])"
      ]
     },
     "execution_count": 4,
     "metadata": {},
     "output_type": "execute_result"
    }
   ],
   "source": [
    "#Replace the value 0 in age with NaN:\n",
    "df['Age'].replace(0,np.nan,inplace=True)\n",
    "df['Age'].unique()"
   ]
  },
  {
   "cell_type": "code",
   "execution_count": 11,
   "id": "ef559d5e-882e-4606-ad44-bb813794cdd0",
   "metadata": {},
   "outputs": [
    {
     "data": {
      "text/plain": [
       "array(['TCS', 'Infosys', 'CTS', nan, 'Tata Consultancy Services',\n",
       "       'Congnizant', 'Infosys Pvt Lmt'], dtype=object)"
      ]
     },
     "execution_count": 11,
     "metadata": {},
     "output_type": "execute_result"
    }
   ],
   "source": [
    "#filling categorical columns with mode\n",
    "df['Company'].mode()\n",
    "df['Company'].unique()"
   ]
  },
  {
   "cell_type": "code",
   "execution_count": 12,
   "id": "97139fc0-610c-4045-854d-c988948ddabc",
   "metadata": {},
   "outputs": [
    {
     "data": {
      "text/plain": [
       "<bound method Series.isnull of 0          TCS\n",
       "1      Infosys\n",
       "2          TCS\n",
       "3      Infosys\n",
       "4          TCS\n",
       "        ...   \n",
       "143        TCS\n",
       "144    Infosys\n",
       "145    Infosys\n",
       "146        TCS\n",
       "147    Infosys\n",
       "Name: Company, Length: 148, dtype: object>"
      ]
     },
     "execution_count": 12,
     "metadata": {},
     "output_type": "execute_result"
    }
   ],
   "source": [
    "#replacing nan  with mode of column company\n",
    "df['Company'].replace('nan','TCS',inplace=True)\n",
    "df['Company'].isnull"
   ]
  },
  {
   "cell_type": "code",
   "execution_count": 8,
   "id": "cd1df718-41c0-43f2-aa3c-6c2590b0d521",
   "metadata": {},
   "outputs": [
    {
     "name": "stdout",
     "output_type": "stream",
     "text": [
      "median: 33.0\n",
      "mode: 0    22.0\n",
      "Name: Age, dtype: float64\n"
     ]
    }
   ],
   "source": [
    "#replacing numerical columns \n",
    "#age \n",
    "median_age=df['Age'].median()\n",
    "mode_age=df['Age'].mode()\n",
    "print('median:',median_age)\n",
    "print('mode:',mode_age)\n"
   ]
  },
  {
   "cell_type": "markdown",
   "id": "3ddc8a83-2719-470d-a750-45fd76e3e6b5",
   "metadata": {},
   "source": [
    "### mean can't be used here to fill the null values as  the minimum age is 0 which is an outlier ,  median is the more robust choice for imputation."
   ]
  },
  {
   "cell_type": "code",
   "execution_count": 9,
   "id": "86de53a8-02b7-4334-9668-61888c44b1a5",
   "metadata": {},
   "outputs": [
    {
     "data": {
      "text/plain": [
       "0"
      ]
     },
     "execution_count": 9,
     "metadata": {},
     "output_type": "execute_result"
    }
   ],
   "source": [
    "#replacing null values in age column with median\n",
    "df['Age'].fillna(median_age,inplace=True)\n",
    "df['Age'].isnull().sum()"
   ]
  },
  {
   "cell_type": "code",
   "execution_count": 10,
   "id": "04861016-d482-4c6a-8cf2-9cda32de637f",
   "metadata": {},
   "outputs": [
    {
     "data": {
      "text/plain": [
       "array([20., 30., 35., 40., 23., 33., 34., 45., 18., 22., 32., 37., 50.,\n",
       "       21., 46., 36., 26., 41., 24., 25., 43., 19., 38., 51., 31., 44.,\n",
       "       17., 54.])"
      ]
     },
     "execution_count": 10,
     "metadata": {},
     "output_type": "execute_result"
    }
   ],
   "source": [
    "df['Age'].replace('nan',median_age)\n",
    "df['Age'].unique()"
   ]
  },
  {
   "cell_type": "code",
   "execution_count": 74,
   "id": "5da72cf7-536f-4aed-a7b7-37c43c67cf64",
   "metadata": {},
   "outputs": [
    {
     "data": {
      "text/plain": [
       "array([20.0, 30.0, 35.0, 40.0, 23.0, 33.0, 34.0, 45.0, 18.0, 22.0, 32.0,\n",
       "       37.0, 50.0, 21.0, 46.0, 36.0, 26.0, 41.0, 24.0, 25.0, 43.0, 19.0,\n",
       "       38.0, 51.0, 31.0, 44.0, 17.0, 'NaN', 54.0], dtype=object)"
      ]
     },
     "execution_count": 74,
     "metadata": {},
     "output_type": "execute_result"
    }
   ],
   "source": []
  },
  {
   "cell_type": "code",
   "execution_count": 13,
   "id": "01d2863f-fd11-479c-90f7-cbfc38984b07",
   "metadata": {
    "jp-MarkdownHeadingCollapsed": true
   },
   "outputs": [
    {
     "data": {
      "text/plain": [
       "24"
      ]
     },
     "execution_count": 13,
     "metadata": {},
     "output_type": "execute_result"
    }
   ],
   "source": [
    "df['Salary'].isnull().sum()"
   ]
  },
  {
   "cell_type": "code",
   "execution_count": 14,
   "id": "39f88a62-3d89-4d43-8dd2-14698d64cc14",
   "metadata": {
    "scrolled": true
   },
   "outputs": [
    {
     "data": {
      "text/plain": [
       "count     124.000000\n",
       "mean     5312.467742\n",
       "std      2573.764683\n",
       "min      1089.000000\n",
       "25%      3030.000000\n",
       "50%      5000.000000\n",
       "75%      8000.000000\n",
       "max      9876.000000\n",
       "Name: Salary, dtype: float64"
      ]
     },
     "execution_count": 14,
     "metadata": {},
     "output_type": "execute_result"
    }
   ],
   "source": [
    "df['Salary'].describe()"
   ]
  },
  {
   "cell_type": "code",
   "execution_count": 15,
   "id": "d9d65642-1a59-47bb-a071-d9b7743480ef",
   "metadata": {},
   "outputs": [
    {
     "data": {
      "text/plain": [
       "0"
      ]
     },
     "execution_count": 15,
     "metadata": {},
     "output_type": "execute_result"
    }
   ],
   "source": [
    "#filling null values in column salary with median\n",
    "median_salary=df['Salary'].median()\n",
    "df['Salary'].fillna(median_salary,inplace=True)\n",
    "df['Salary'].isnull().sum()"
   ]
  },
  {
   "cell_type": "code",
   "execution_count": 16,
   "id": "20e38bde-1177-4bea-83f2-b86f01afc36d",
   "metadata": {},
   "outputs": [
    {
     "data": {
      "text/plain": [
       "14"
      ]
     },
     "execution_count": 16,
     "metadata": {},
     "output_type": "execute_result"
    }
   ],
   "source": [
    "#filling null values in place column  with mode\n",
    "df['Place'].isnull().sum()"
   ]
  },
  {
   "cell_type": "code",
   "execution_count": 17,
   "id": "6688d505-4552-471a-acea-2dbb9a46e364",
   "metadata": {},
   "outputs": [
    {
     "data": {
      "text/plain": [
       "0    Mumbai\n",
       "Name: Place, dtype: object"
      ]
     },
     "execution_count": 17,
     "metadata": {},
     "output_type": "execute_result"
    }
   ],
   "source": [
    "mode_place=df['Place'].mode()\n",
    "mode_place"
   ]
  },
  {
   "cell_type": "code",
   "execution_count": 20,
   "id": "54e516df-1e16-44bb-b10a-608854c1ff64",
   "metadata": {},
   "outputs": [],
   "source": [
    "df['Place'].fillna('Mumbai',inplace=True)\n"
   ]
  },
  {
   "cell_type": "code",
   "execution_count": 22,
   "id": "f385a0e2-5f8f-4304-b70c-52e33740eda4",
   "metadata": {},
   "outputs": [
    {
     "data": {
      "text/plain": [
       "0"
      ]
     },
     "execution_count": 22,
     "metadata": {},
     "output_type": "execute_result"
    }
   ],
   "source": [
    "df['Place'].isnull().sum()"
   ]
  },
  {
   "cell_type": "code",
   "execution_count": 23,
   "id": "08742dae-d689-4baf-8b9a-f792b8988e5c",
   "metadata": {},
   "outputs": [],
   "source": [
    "#removing duplicate rows\n",
    "df.drop_duplicates(inplace=True)\n",
    "        \n",
    "        "
   ]
  },
  {
   "cell_type": "markdown",
   "id": "dc72f1dd-01c5-4d1d-8079-68e39b7d94af",
   "metadata": {},
   "source": [
    "### <font color='red'>3.Data Analysis </font> "
   ]
  },
  {
   "cell_type": "code",
   "execution_count": 24,
   "id": "abfbe24d-2671-4b5e-b8f1-7e8b3537f3d7",
   "metadata": {},
   "outputs": [
    {
     "data": {
      "text/html": [
       "<div>\n",
       "<style scoped>\n",
       "    .dataframe tbody tr th:only-of-type {\n",
       "        vertical-align: middle;\n",
       "    }\n",
       "\n",
       "    .dataframe tbody tr th {\n",
       "        vertical-align: top;\n",
       "    }\n",
       "\n",
       "    .dataframe thead th {\n",
       "        text-align: right;\n",
       "    }\n",
       "</style>\n",
       "<table border=\"1\" class=\"dataframe\">\n",
       "  <thead>\n",
       "    <tr style=\"text-align: right;\">\n",
       "      <th></th>\n",
       "      <th>Company</th>\n",
       "      <th>Age</th>\n",
       "      <th>Salary</th>\n",
       "      <th>Place</th>\n",
       "      <th>Country</th>\n",
       "      <th>Gender</th>\n",
       "    </tr>\n",
       "  </thead>\n",
       "  <tbody>\n",
       "    <tr>\n",
       "      <th>21</th>\n",
       "      <td>Infosys</td>\n",
       "      <td>50.0</td>\n",
       "      <td>3184.0</td>\n",
       "      <td>Delhi</td>\n",
       "      <td>India</td>\n",
       "      <td>0</td>\n",
       "    </tr>\n",
       "    <tr>\n",
       "      <th>32</th>\n",
       "      <td>Infosys</td>\n",
       "      <td>45.0</td>\n",
       "      <td>4034.0</td>\n",
       "      <td>Calcutta</td>\n",
       "      <td>India</td>\n",
       "      <td>0</td>\n",
       "    </tr>\n",
       "    <tr>\n",
       "      <th>39</th>\n",
       "      <td>Infosys</td>\n",
       "      <td>41.0</td>\n",
       "      <td>3000.0</td>\n",
       "      <td>Mumbai</td>\n",
       "      <td>India</td>\n",
       "      <td>0</td>\n",
       "    </tr>\n",
       "    <tr>\n",
       "      <th>50</th>\n",
       "      <td>Infosys</td>\n",
       "      <td>41.0</td>\n",
       "      <td>3000.0</td>\n",
       "      <td>Chennai</td>\n",
       "      <td>India</td>\n",
       "      <td>0</td>\n",
       "    </tr>\n",
       "    <tr>\n",
       "      <th>57</th>\n",
       "      <td>Infosys</td>\n",
       "      <td>51.0</td>\n",
       "      <td>3184.0</td>\n",
       "      <td>Hyderabad</td>\n",
       "      <td>India</td>\n",
       "      <td>0</td>\n",
       "    </tr>\n",
       "    <tr>\n",
       "      <th>68</th>\n",
       "      <td>Infosys</td>\n",
       "      <td>43.0</td>\n",
       "      <td>4034.0</td>\n",
       "      <td>Mumbai</td>\n",
       "      <td>India</td>\n",
       "      <td>0</td>\n",
       "    </tr>\n",
       "    <tr>\n",
       "      <th>75</th>\n",
       "      <td>Infosys</td>\n",
       "      <td>44.0</td>\n",
       "      <td>3000.0</td>\n",
       "      <td>Cochin</td>\n",
       "      <td>India</td>\n",
       "      <td>0</td>\n",
       "    </tr>\n",
       "    <tr>\n",
       "      <th>86</th>\n",
       "      <td>Infosys</td>\n",
       "      <td>41.0</td>\n",
       "      <td>3000.0</td>\n",
       "      <td>Delhi</td>\n",
       "      <td>India</td>\n",
       "      <td>0</td>\n",
       "    </tr>\n",
       "    <tr>\n",
       "      <th>93</th>\n",
       "      <td>Infosys</td>\n",
       "      <td>54.0</td>\n",
       "      <td>3184.0</td>\n",
       "      <td>Mumbai</td>\n",
       "      <td>India</td>\n",
       "      <td>0</td>\n",
       "    </tr>\n",
       "    <tr>\n",
       "      <th>104</th>\n",
       "      <td>Infosys</td>\n",
       "      <td>44.0</td>\n",
       "      <td>4034.0</td>\n",
       "      <td>Delhi</td>\n",
       "      <td>India</td>\n",
       "      <td>0</td>\n",
       "    </tr>\n",
       "    <tr>\n",
       "      <th>122</th>\n",
       "      <td>Infosys</td>\n",
       "      <td>44.0</td>\n",
       "      <td>3234.0</td>\n",
       "      <td>Mumbai</td>\n",
       "      <td>India</td>\n",
       "      <td>0</td>\n",
       "    </tr>\n",
       "    <tr>\n",
       "      <th>129</th>\n",
       "      <td>Infosys</td>\n",
       "      <td>50.0</td>\n",
       "      <td>3184.0</td>\n",
       "      <td>Calcutta</td>\n",
       "      <td>India</td>\n",
       "      <td>0</td>\n",
       "    </tr>\n",
       "    <tr>\n",
       "      <th>138</th>\n",
       "      <td>CTS</td>\n",
       "      <td>44.0</td>\n",
       "      <td>3033.0</td>\n",
       "      <td>Cochin</td>\n",
       "      <td>India</td>\n",
       "      <td>0</td>\n",
       "    </tr>\n",
       "    <tr>\n",
       "      <th>140</th>\n",
       "      <td>Infosys</td>\n",
       "      <td>44.0</td>\n",
       "      <td>4034.0</td>\n",
       "      <td>Hyderabad</td>\n",
       "      <td>India</td>\n",
       "      <td>0</td>\n",
       "    </tr>\n",
       "    <tr>\n",
       "      <th>145</th>\n",
       "      <td>Infosys</td>\n",
       "      <td>44.0</td>\n",
       "      <td>4034.0</td>\n",
       "      <td>Delhi</td>\n",
       "      <td>India</td>\n",
       "      <td>1</td>\n",
       "    </tr>\n",
       "  </tbody>\n",
       "</table>\n",
       "</div>"
      ],
      "text/plain": [
       "     Company   Age  Salary      Place Country  Gender\n",
       "21   Infosys  50.0  3184.0      Delhi   India       0\n",
       "32   Infosys  45.0  4034.0   Calcutta   India       0\n",
       "39   Infosys  41.0  3000.0     Mumbai   India       0\n",
       "50   Infosys  41.0  3000.0    Chennai   India       0\n",
       "57   Infosys  51.0  3184.0  Hyderabad   India       0\n",
       "68   Infosys  43.0  4034.0     Mumbai   India       0\n",
       "75   Infosys  44.0  3000.0     Cochin   India       0\n",
       "86   Infosys  41.0  3000.0      Delhi   India       0\n",
       "93   Infosys  54.0  3184.0     Mumbai   India       0\n",
       "104  Infosys  44.0  4034.0      Delhi   India       0\n",
       "122  Infosys  44.0  3234.0     Mumbai   India       0\n",
       "129  Infosys  50.0  3184.0   Calcutta   India       0\n",
       "138      CTS  44.0  3033.0     Cochin   India       0\n",
       "140  Infosys  44.0  4034.0  Hyderabad   India       0\n",
       "145  Infosys  44.0  4034.0      Delhi   India       1"
      ]
     },
     "execution_count": 24,
     "metadata": {},
     "output_type": "execute_result"
    }
   ],
   "source": [
    "#Filter the data with age >40 and salary<5000\n",
    "filtered_data=df[(df['Age']>40) & (df['Salary']<5000)]\n",
    "filtered_data"
   ]
  },
  {
   "cell_type": "code",
   "execution_count": 37,
   "id": "20a7bdc9-b677-4e18-a6e9-97ea099c9f08",
   "metadata": {
    "scrolled": true
   },
   "outputs": [
    {
     "data": {
      "image/png": "[encoded data removed]",
      "text/plain": [
       "<Figure size 640x480 with 1 Axes>"
      ]
     },
     "metadata": {},
     "output_type": "display_data"
    }
   ],
   "source": [
    "#Plot the chart with age and salary Count the number of people from each place and represent it visually\n",
    "import seaborn as sns\n",
    "import matplotlib.pyplot as plt\n",
    "plt.scatter(df['Age'],df['Salary'])\n",
    "plt.title('Age vs. Salary')\n",
    "plt.xlabel('Age')\n",
    "plt.ylabel('Salary')\n",
    "plt.show()"
   ]
  },
  {
   "cell_type": "code",
   "execution_count": 39,
   "id": "9431c1d5-4596-45f9-9574-83a06d6b0a1f",
   "metadata": {
    "scrolled": true
   },
   "outputs": [
    {
     "name": "stdout",
     "output_type": "stream",
     "text": [
      "             Age    Salary\n",
      "Age     1.000000 -0.017937\n",
      "Salary -0.017937  1.000000\n"
     ]
    },
    {
     "data": {
      "image/png": "[encoded data removed]",
      "text/plain": [
       "<Figure size 640x480 with 2 Axes>"
      ]
     },
     "metadata": {},
     "output_type": "display_data"
    }
   ],
   "source": [
    "print(df[[\"Age\", \"Salary\"]].corr())\n",
    "\n",
    "sns.heatmap(df[[\"Age\", \"Salary\"]].corr(), cmap = \"viridis\", annot = True)\n",
    "plt.show()"
   ]
  },
  {
   "cell_type": "markdown",
   "id": "fb6391c4-9dc8-4ccb-afb9-f7c3dc3082b8",
   "metadata": {},
   "source": [
    "### no correlation between age and salary"
   ]
  },
  {
   "cell_type": "code",
   "execution_count": 33,
   "id": "f9d63afa-cd69-4708-a82b-5a8bd1c04311",
   "metadata": {},
   "outputs": [
    {
     "data": {
      "text/plain": [
       "Place\n",
       "Mumbai        48\n",
       "Calcutta      32\n",
       "Chennai       14\n",
       "Delhi         14\n",
       "Cochin        13\n",
       "Noida          8\n",
       "Hyderabad      8\n",
       "Podicherry     3\n",
       "Pune           2\n",
       "Bhopal         1\n",
       "Nagpur         1\n",
       "Name: count, dtype: int64"
      ]
     },
     "execution_count": 33,
     "metadata": {},
     "output_type": "execute_result"
    }
   ],
   "source": [
    "#Count the number of people from each place and represent it visually\n",
    "count_place=df['Place'].value_counts()\n",
    "count_place"
   ]
  },
  {
   "cell_type": "code",
   "execution_count": 50,
   "id": "8fb1b91e-9650-45ff-912f-aa665803dada",
   "metadata": {},
   "outputs": [
    {
     "data": {
      "image/png": "[encoded data removed]",
      "text/plain": [
       "<Figure size 640x480 with 1 Axes>"
      ]
     },
     "metadata": {},
     "output_type": "display_data"
    }
   ],
   "source": [
    "plt.bar(count_place.index,count_place.values)\n",
    "plt.xticks(rotation=90)\n",
    "plt.show()"
   ]
  },
  {
   "cell_type": "markdown",
   "id": "93778d12-e755-42a0-8d93-67ca55f18361",
   "metadata": {},
   "source": [
    "### Most people are from mumbai"
   ]
  },
  {
   "cell_type": "markdown",
   "id": "1f9cdf52-0405-433c-9e8e-19fe59af30c5",
   "metadata": {},
   "source": [
    "### <font color='red'>4.Data Encoding </font>"
   ]
  },
  {
   "cell_type": "code",
   "execution_count": null,
   "id": "48d5cc38-945a-4f99-b8b4-2d4d1c68abd3",
   "metadata": {},
   "outputs": [],
   "source": [
    "### One-hot encoding "
   ]
  },
  {
   "cell_type": "code",
   "execution_count": 55,
   "id": "f96dd503-4662-43fb-8a66-a8972e3abe45",
   "metadata": {},
   "outputs": [
    {
     "data": {
      "text/html": [
       "<div>\n",
       "<style scoped>\n",
       "    .dataframe tbody tr th:only-of-type {\n",
       "        vertical-align: middle;\n",
       "    }\n",
       "\n",
       "    .dataframe tbody tr th {\n",
       "        vertical-align: top;\n",
       "    }\n",
       "\n",
       "    .dataframe thead th {\n",
       "        text-align: right;\n",
       "    }\n",
       "</style>\n",
       "<table border=\"1\" class=\"dataframe\">\n",
       "  <thead>\n",
       "    <tr style=\"text-align: right;\">\n",
       "      <th></th>\n",
       "      <th>Age</th>\n",
       "      <th>Salary</th>\n",
       "      <th>Place</th>\n",
       "      <th>Country</th>\n",
       "      <th>Gender</th>\n",
       "      <th>Company_CTS</th>\n",
       "      <th>Company_Congnizant</th>\n",
       "      <th>Company_Infosys</th>\n",
       "      <th>Company_Infosys Pvt Lmt</th>\n",
       "      <th>Company_TCS</th>\n",
       "      <th>Company_Tata Consultancy Services</th>\n",
       "    </tr>\n",
       "  </thead>\n",
       "  <tbody>\n",
       "    <tr>\n",
       "      <th>0</th>\n",
       "      <td>20.0</td>\n",
       "      <td>5000.0</td>\n",
       "      <td>Chennai</td>\n",
       "      <td>India</td>\n",
       "      <td>0</td>\n",
       "      <td>False</td>\n",
       "      <td>False</td>\n",
       "      <td>False</td>\n",
       "      <td>False</td>\n",
       "      <td>True</td>\n",
       "      <td>False</td>\n",
       "    </tr>\n",
       "    <tr>\n",
       "      <th>1</th>\n",
       "      <td>30.0</td>\n",
       "      <td>5000.0</td>\n",
       "      <td>Mumbai</td>\n",
       "      <td>India</td>\n",
       "      <td>0</td>\n",
       "      <td>False</td>\n",
       "      <td>False</td>\n",
       "      <td>True</td>\n",
       "      <td>False</td>\n",
       "      <td>False</td>\n",
       "      <td>False</td>\n",
       "    </tr>\n",
       "    <tr>\n",
       "      <th>2</th>\n",
       "      <td>35.0</td>\n",
       "      <td>2300.0</td>\n",
       "      <td>Calcutta</td>\n",
       "      <td>India</td>\n",
       "      <td>0</td>\n",
       "      <td>False</td>\n",
       "      <td>False</td>\n",
       "      <td>False</td>\n",
       "      <td>False</td>\n",
       "      <td>True</td>\n",
       "      <td>False</td>\n",
       "    </tr>\n",
       "    <tr>\n",
       "      <th>3</th>\n",
       "      <td>40.0</td>\n",
       "      <td>3000.0</td>\n",
       "      <td>Delhi</td>\n",
       "      <td>India</td>\n",
       "      <td>0</td>\n",
       "      <td>False</td>\n",
       "      <td>False</td>\n",
       "      <td>True</td>\n",
       "      <td>False</td>\n",
       "      <td>False</td>\n",
       "      <td>False</td>\n",
       "    </tr>\n",
       "    <tr>\n",
       "      <th>4</th>\n",
       "      <td>23.0</td>\n",
       "      <td>4000.0</td>\n",
       "      <td>Mumbai</td>\n",
       "      <td>India</td>\n",
       "      <td>0</td>\n",
       "      <td>False</td>\n",
       "      <td>False</td>\n",
       "      <td>False</td>\n",
       "      <td>False</td>\n",
       "      <td>True</td>\n",
       "      <td>False</td>\n",
       "    </tr>\n",
       "    <tr>\n",
       "      <th>...</th>\n",
       "      <td>...</td>\n",
       "      <td>...</td>\n",
       "      <td>...</td>\n",
       "      <td>...</td>\n",
       "      <td>...</td>\n",
       "      <td>...</td>\n",
       "      <td>...</td>\n",
       "      <td>...</td>\n",
       "      <td>...</td>\n",
       "      <td>...</td>\n",
       "      <td>...</td>\n",
       "    </tr>\n",
       "    <tr>\n",
       "      <th>142</th>\n",
       "      <td>22.0</td>\n",
       "      <td>8202.0</td>\n",
       "      <td>Mumbai</td>\n",
       "      <td>India</td>\n",
       "      <td>0</td>\n",
       "      <td>False</td>\n",
       "      <td>False</td>\n",
       "      <td>False</td>\n",
       "      <td>True</td>\n",
       "      <td>False</td>\n",
       "      <td>False</td>\n",
       "    </tr>\n",
       "    <tr>\n",
       "      <th>143</th>\n",
       "      <td>33.0</td>\n",
       "      <td>9024.0</td>\n",
       "      <td>Calcutta</td>\n",
       "      <td>India</td>\n",
       "      <td>1</td>\n",
       "      <td>False</td>\n",
       "      <td>False</td>\n",
       "      <td>False</td>\n",
       "      <td>False</td>\n",
       "      <td>True</td>\n",
       "      <td>False</td>\n",
       "    </tr>\n",
       "    <tr>\n",
       "      <th>145</th>\n",
       "      <td>44.0</td>\n",
       "      <td>4034.0</td>\n",
       "      <td>Delhi</td>\n",
       "      <td>India</td>\n",
       "      <td>1</td>\n",
       "      <td>False</td>\n",
       "      <td>False</td>\n",
       "      <td>True</td>\n",
       "      <td>False</td>\n",
       "      <td>False</td>\n",
       "      <td>False</td>\n",
       "    </tr>\n",
       "    <tr>\n",
       "      <th>146</th>\n",
       "      <td>33.0</td>\n",
       "      <td>5034.0</td>\n",
       "      <td>Mumbai</td>\n",
       "      <td>India</td>\n",
       "      <td>1</td>\n",
       "      <td>False</td>\n",
       "      <td>False</td>\n",
       "      <td>False</td>\n",
       "      <td>False</td>\n",
       "      <td>True</td>\n",
       "      <td>False</td>\n",
       "    </tr>\n",
       "    <tr>\n",
       "      <th>147</th>\n",
       "      <td>22.0</td>\n",
       "      <td>8202.0</td>\n",
       "      <td>Cochin</td>\n",
       "      <td>India</td>\n",
       "      <td>0</td>\n",
       "      <td>False</td>\n",
       "      <td>False</td>\n",
       "      <td>True</td>\n",
       "      <td>False</td>\n",
       "      <td>False</td>\n",
       "      <td>False</td>\n",
       "    </tr>\n",
       "  </tbody>\n",
       "</table>\n",
       "<p>144 rows × 11 columns</p>\n",
       "</div>"
      ],
      "text/plain": [
       "      Age  Salary     Place Country  Gender  Company_CTS  Company_Congnizant  \\\n",
       "0    20.0  5000.0   Chennai   India       0        False               False   \n",
       "1    30.0  5000.0    Mumbai   India       0        False               False   \n",
       "2    35.0  2300.0  Calcutta   India       0        False               False   \n",
       "3    40.0  3000.0     Delhi   India       0        False               False   \n",
       "4    23.0  4000.0    Mumbai   India       0        False               False   \n",
       "..    ...     ...       ...     ...     ...          ...                 ...   \n",
       "142  22.0  8202.0    Mumbai   India       0        False               False   \n",
       "143  33.0  9024.0  Calcutta   India       1        False               False   \n",
       "145  44.0  4034.0     Delhi   India       1        False               False   \n",
       "146  33.0  5034.0    Mumbai   India       1        False               False   \n",
       "147  22.0  8202.0    Cochin   India       0        False               False   \n",
       "\n",
       "     Company_Infosys  Company_Infosys Pvt Lmt  Company_TCS  \\\n",
       "0              False                    False         True   \n",
       "1               True                    False        False   \n",
       "2              False                    False         True   \n",
       "3               True                    False        False   \n",
       "4              False                    False         True   \n",
       "..               ...                      ...          ...   \n",
       "142            False                     True        False   \n",
       "143            False                    False         True   \n",
       "145             True                    False        False   \n",
       "146            False                    False         True   \n",
       "147             True                    False        False   \n",
       "\n",
       "     Company_Tata Consultancy Services  \n",
       "0                                False  \n",
       "1                                False  \n",
       "2                                False  \n",
       "3                                False  \n",
       "4                                False  \n",
       "..                                 ...  \n",
       "142                              False  \n",
       "143                              False  \n",
       "145                              False  \n",
       "146                              False  \n",
       "147                              False  \n",
       "\n",
       "[144 rows x 11 columns]"
      ]
     },
     "execution_count": 55,
     "metadata": {},
     "output_type": "execute_result"
    }
   ],
   "source": [
    "one_hot_encoded_company=pd.get_dummies(data=df,columns=['Company'])\n",
    "one_hot_encoded_company"
   ]
  },
  {
   "cell_type": "code",
   "execution_count": 56,
   "id": "4c63908f-a56a-4672-9833-6cc1dd277922",
   "metadata": {},
   "outputs": [
    {
     "data": {
      "text/html": [
       "<div>\n",
       "<style scoped>\n",
       "    .dataframe tbody tr th:only-of-type {\n",
       "        vertical-align: middle;\n",
       "    }\n",
       "\n",
       "    .dataframe tbody tr th {\n",
       "        vertical-align: top;\n",
       "    }\n",
       "\n",
       "    .dataframe thead th {\n",
       "        text-align: right;\n",
       "    }\n",
       "</style>\n",
       "<table border=\"1\" class=\"dataframe\">\n",
       "  <thead>\n",
       "    <tr style=\"text-align: right;\">\n",
       "      <th></th>\n",
       "      <th>Age</th>\n",
       "      <th>Salary</th>\n",
       "      <th>Country</th>\n",
       "      <th>Gender</th>\n",
       "      <th>Company_CTS</th>\n",
       "      <th>Company_Congnizant</th>\n",
       "      <th>Company_Infosys</th>\n",
       "      <th>Company_Infosys Pvt Lmt</th>\n",
       "      <th>Company_TCS</th>\n",
       "      <th>Company_Tata Consultancy Services</th>\n",
       "      <th>...</th>\n",
       "      <th>Place_Calcutta</th>\n",
       "      <th>Place_Chennai</th>\n",
       "      <th>Place_Cochin</th>\n",
       "      <th>Place_Delhi</th>\n",
       "      <th>Place_Hyderabad</th>\n",
       "      <th>Place_Mumbai</th>\n",
       "      <th>Place_Nagpur</th>\n",
       "      <th>Place_Noida</th>\n",
       "      <th>Place_Podicherry</th>\n",
       "      <th>Place_Pune</th>\n",
       "    </tr>\n",
       "  </thead>\n",
       "  <tbody>\n",
       "    <tr>\n",
       "      <th>0</th>\n",
       "      <td>20.0</td>\n",
       "      <td>5000.0</td>\n",
       "      <td>India</td>\n",
       "      <td>0</td>\n",
       "      <td>False</td>\n",
       "      <td>False</td>\n",
       "      <td>False</td>\n",
       "      <td>False</td>\n",
       "      <td>True</td>\n",
       "      <td>False</td>\n",
       "      <td>...</td>\n",
       "      <td>False</td>\n",
       "      <td>True</td>\n",
       "      <td>False</td>\n",
       "      <td>False</td>\n",
       "      <td>False</td>\n",
       "      <td>False</td>\n",
       "      <td>False</td>\n",
       "      <td>False</td>\n",
       "      <td>False</td>\n",
       "      <td>False</td>\n",
       "    </tr>\n",
       "    <tr>\n",
       "      <th>1</th>\n",
       "      <td>30.0</td>\n",
       "      <td>5000.0</td>\n",
       "      <td>India</td>\n",
       "      <td>0</td>\n",
       "      <td>False</td>\n",
       "      <td>False</td>\n",
       "      <td>True</td>\n",
       "      <td>False</td>\n",
       "      <td>False</td>\n",
       "      <td>False</td>\n",
       "      <td>...</td>\n",
       "      <td>False</td>\n",
       "      <td>False</td>\n",
       "      <td>False</td>\n",
       "      <td>False</td>\n",
       "      <td>False</td>\n",
       "      <td>True</td>\n",
       "      <td>False</td>\n",
       "      <td>False</td>\n",
       "      <td>False</td>\n",
       "      <td>False</td>\n",
       "    </tr>\n",
       "    <tr>\n",
       "      <th>2</th>\n",
       "      <td>35.0</td>\n",
       "      <td>2300.0</td>\n",
       "      <td>India</td>\n",
       "      <td>0</td>\n",
       "      <td>False</td>\n",
       "      <td>False</td>\n",
       "      <td>False</td>\n",
       "      <td>False</td>\n",
       "      <td>True</td>\n",
       "      <td>False</td>\n",
       "      <td>...</td>\n",
       "      <td>True</td>\n",
       "      <td>False</td>\n",
       "      <td>False</td>\n",
       "      <td>False</td>\n",
       "      <td>False</td>\n",
       "      <td>False</td>\n",
       "      <td>False</td>\n",
       "      <td>False</td>\n",
       "      <td>False</td>\n",
       "      <td>False</td>\n",
       "    </tr>\n",
       "    <tr>\n",
       "      <th>3</th>\n",
       "      <td>40.0</td>\n",
       "      <td>3000.0</td>\n",
       "      <td>India</td>\n",
       "      <td>0</td>\n",
       "      <td>False</td>\n",
       "      <td>False</td>\n",
       "      <td>True</td>\n",
       "      <td>False</td>\n",
       "      <td>False</td>\n",
       "      <td>False</td>\n",
       "      <td>...</td>\n",
       "      <td>False</td>\n",
       "      <td>False</td>\n",
       "      <td>False</td>\n",
       "      <td>True</td>\n",
       "      <td>False</td>\n",
       "      <td>False</td>\n",
       "      <td>False</td>\n",
       "      <td>False</td>\n",
       "      <td>False</td>\n",
       "      <td>False</td>\n",
       "    </tr>\n",
       "    <tr>\n",
       "      <th>4</th>\n",
       "      <td>23.0</td>\n",
       "      <td>4000.0</td>\n",
       "      <td>India</td>\n",
       "      <td>0</td>\n",
       "      <td>False</td>\n",
       "      <td>False</td>\n",
       "      <td>False</td>\n",
       "      <td>False</td>\n",
       "      <td>True</td>\n",
       "      <td>False</td>\n",
       "      <td>...</td>\n",
       "      <td>False</td>\n",
       "      <td>False</td>\n",
       "      <td>False</td>\n",
       "      <td>False</td>\n",
       "      <td>False</td>\n",
       "      <td>True</td>\n",
       "      <td>False</td>\n",
       "      <td>False</td>\n",
       "      <td>False</td>\n",
       "      <td>False</td>\n",
       "    </tr>\n",
       "    <tr>\n",
       "      <th>...</th>\n",
       "      <td>...</td>\n",
       "      <td>...</td>\n",
       "      <td>...</td>\n",
       "      <td>...</td>\n",
       "      <td>...</td>\n",
       "      <td>...</td>\n",
       "      <td>...</td>\n",
       "      <td>...</td>\n",
       "      <td>...</td>\n",
       "      <td>...</td>\n",
       "      <td>...</td>\n",
       "      <td>...</td>\n",
       "      <td>...</td>\n",
       "      <td>...</td>\n",
       "      <td>...</td>\n",
       "      <td>...</td>\n",
       "      <td>...</td>\n",
       "      <td>...</td>\n",
       "      <td>...</td>\n",
       "      <td>...</td>\n",
       "      <td>...</td>\n",
       "    </tr>\n",
       "    <tr>\n",
       "      <th>142</th>\n",
       "      <td>22.0</td>\n",
       "      <td>8202.0</td>\n",
       "      <td>India</td>\n",
       "      <td>0</td>\n",
       "      <td>False</td>\n",
       "      <td>False</td>\n",
       "      <td>False</td>\n",
       "      <td>True</td>\n",
       "      <td>False</td>\n",
       "      <td>False</td>\n",
       "      <td>...</td>\n",
       "      <td>False</td>\n",
       "      <td>False</td>\n",
       "      <td>False</td>\n",
       "      <td>False</td>\n",
       "      <td>False</td>\n",
       "      <td>True</td>\n",
       "      <td>False</td>\n",
       "      <td>False</td>\n",
       "      <td>False</td>\n",
       "      <td>False</td>\n",
       "    </tr>\n",
       "    <tr>\n",
       "      <th>143</th>\n",
       "      <td>33.0</td>\n",
       "      <td>9024.0</td>\n",
       "      <td>India</td>\n",
       "      <td>1</td>\n",
       "      <td>False</td>\n",
       "      <td>False</td>\n",
       "      <td>False</td>\n",
       "      <td>False</td>\n",
       "      <td>True</td>\n",
       "      <td>False</td>\n",
       "      <td>...</td>\n",
       "      <td>True</td>\n",
       "      <td>False</td>\n",
       "      <td>False</td>\n",
       "      <td>False</td>\n",
       "      <td>False</td>\n",
       "      <td>False</td>\n",
       "      <td>False</td>\n",
       "      <td>False</td>\n",
       "      <td>False</td>\n",
       "      <td>False</td>\n",
       "    </tr>\n",
       "    <tr>\n",
       "      <th>145</th>\n",
       "      <td>44.0</td>\n",
       "      <td>4034.0</td>\n",
       "      <td>India</td>\n",
       "      <td>1</td>\n",
       "      <td>False</td>\n",
       "      <td>False</td>\n",
       "      <td>True</td>\n",
       "      <td>False</td>\n",
       "      <td>False</td>\n",
       "      <td>False</td>\n",
       "      <td>...</td>\n",
       "      <td>False</td>\n",
       "      <td>False</td>\n",
       "      <td>False</td>\n",
       "      <td>True</td>\n",
       "      <td>False</td>\n",
       "      <td>False</td>\n",
       "      <td>False</td>\n",
       "      <td>False</td>\n",
       "      <td>False</td>\n",
       "      <td>False</td>\n",
       "    </tr>\n",
       "    <tr>\n",
       "      <th>146</th>\n",
       "      <td>33.0</td>\n",
       "      <td>5034.0</td>\n",
       "      <td>India</td>\n",
       "      <td>1</td>\n",
       "      <td>False</td>\n",
       "      <td>False</td>\n",
       "      <td>False</td>\n",
       "      <td>False</td>\n",
       "      <td>True</td>\n",
       "      <td>False</td>\n",
       "      <td>...</td>\n",
       "      <td>False</td>\n",
       "      <td>False</td>\n",
       "      <td>False</td>\n",
       "      <td>False</td>\n",
       "      <td>False</td>\n",
       "      <td>True</td>\n",
       "      <td>False</td>\n",
       "      <td>False</td>\n",
       "      <td>False</td>\n",
       "      <td>False</td>\n",
       "    </tr>\n",
       "    <tr>\n",
       "      <th>147</th>\n",
       "      <td>22.0</td>\n",
       "      <td>8202.0</td>\n",
       "      <td>India</td>\n",
       "      <td>0</td>\n",
       "      <td>False</td>\n",
       "      <td>False</td>\n",
       "      <td>True</td>\n",
       "      <td>False</td>\n",
       "      <td>False</td>\n",
       "      <td>False</td>\n",
       "      <td>...</td>\n",
       "      <td>False</td>\n",
       "      <td>False</td>\n",
       "      <td>True</td>\n",
       "      <td>False</td>\n",
       "      <td>False</td>\n",
       "      <td>False</td>\n",
       "      <td>False</td>\n",
       "      <td>False</td>\n",
       "      <td>False</td>\n",
       "      <td>False</td>\n",
       "    </tr>\n",
       "  </tbody>\n",
       "</table>\n",
       "<p>144 rows × 21 columns</p>\n",
       "</div>"
      ],
      "text/plain": [
       "      Age  Salary Country  Gender  Company_CTS  Company_Congnizant  \\\n",
       "0    20.0  5000.0   India       0        False               False   \n",
       "1    30.0  5000.0   India       0        False               False   \n",
       "2    35.0  2300.0   India       0        False               False   \n",
       "3    40.0  3000.0   India       0        False               False   \n",
       "4    23.0  4000.0   India       0        False               False   \n",
       "..    ...     ...     ...     ...          ...                 ...   \n",
       "142  22.0  8202.0   India       0        False               False   \n",
       "143  33.0  9024.0   India       1        False               False   \n",
       "145  44.0  4034.0   India       1        False               False   \n",
       "146  33.0  5034.0   India       1        False               False   \n",
       "147  22.0  8202.0   India       0        False               False   \n",
       "\n",
       "     Company_Infosys  Company_Infosys Pvt Lmt  Company_TCS  \\\n",
       "0              False                    False         True   \n",
       "1               True                    False        False   \n",
       "2              False                    False         True   \n",
       "3               True                    False        False   \n",
       "4              False                    False         True   \n",
       "..               ...                      ...          ...   \n",
       "142            False                     True        False   \n",
       "143            False                    False         True   \n",
       "145             True                    False        False   \n",
       "146            False                    False         True   \n",
       "147             True                    False        False   \n",
       "\n",
       "     Company_Tata Consultancy Services  ...  Place_Calcutta  Place_Chennai  \\\n",
       "0                                False  ...           False           True   \n",
       "1                                False  ...           False          False   \n",
       "2                                False  ...            True          False   \n",
       "3                                False  ...           False          False   \n",
       "4                                False  ...           False          False   \n",
       "..                                 ...  ...             ...            ...   \n",
       "142                              False  ...           False          False   \n",
       "143                              False  ...            True          False   \n",
       "145                              False  ...           False          False   \n",
       "146                              False  ...           False          False   \n",
       "147                              False  ...           False          False   \n",
       "\n",
       "     Place_Cochin  Place_Delhi  Place_Hyderabad  Place_Mumbai  Place_Nagpur  \\\n",
       "0           False        False            False         False         False   \n",
       "1           False        False            False          True         False   \n",
       "2           False        False            False         False         False   \n",
       "3           False         True            False         False         False   \n",
       "4           False        False            False          True         False   \n",
       "..            ...          ...              ...           ...           ...   \n",
       "142         False        False            False          True         False   \n",
       "143         False        False            False         False         False   \n",
       "145         False         True            False         False         False   \n",
       "146         False        False            False          True         False   \n",
       "147          True        False            False         False         False   \n",
       "\n",
       "     Place_Noida  Place_Podicherry  Place_Pune  \n",
       "0          False             False       False  \n",
       "1          False             False       False  \n",
       "2          False             False       False  \n",
       "3          False             False       False  \n",
       "4          False             False       False  \n",
       "..           ...               ...         ...  \n",
       "142        False             False       False  \n",
       "143        False             False       False  \n",
       "145        False             False       False  \n",
       "146        False             False       False  \n",
       "147        False             False       False  \n",
       "\n",
       "[144 rows x 21 columns]"
      ]
     },
     "execution_count": 56,
     "metadata": {},
     "output_type": "execute_result"
    }
   ],
   "source": [
    "one_hot_encoded_place=pd.get_dummies(data=encoded_data,columns=['Place'])\n",
    "one_hot_encoded_place"
   ]
  },
  {
   "cell_type": "code",
   "execution_count": 59,
   "id": "8d2316e8-29c3-40f2-9321-192b76e3f77c",
   "metadata": {},
   "outputs": [
    {
     "name": "stdout",
     "output_type": "stream",
     "text": [
      "     Company   Age  Salary  Place  Country  Gender\n",
      "0          4  20.0  5000.0      2        0       0\n",
      "1          2  30.0  5000.0      6        0       0\n",
      "2          4  35.0  2300.0      1        0       0\n",
      "3          2  40.0  3000.0      4        0       0\n",
      "4          4  23.0  4000.0      6        0       0\n",
      "..       ...   ...     ...    ...      ...     ...\n",
      "142        3  22.0  8202.0      6        0       0\n",
      "143        4  33.0  9024.0      1        0       1\n",
      "145        2  44.0  4034.0      4        0       1\n",
      "146        4  33.0  5034.0      6        0       1\n",
      "147        2  22.0  8202.0      3        0       0\n",
      "\n",
      "[144 rows x 6 columns]\n"
     ]
    }
   ],
   "source": [
    "#label-encoding\n",
    "from sklearn.preprocessing import LabelEncoder\n",
    "label_encoder=LabelEncoder()\n",
    "for i in df.select_dtypes(include = [\"object\"]): \n",
    "    df[i] = label_encoder.fit_transform(df[i])\n",
    "print(df)"
   ]
  },
  {
   "cell_type": "code",
   "execution_count": null,
   "id": "25c93444-197f-4abe-91f1-8c8884a60c90",
   "metadata": {},
   "outputs": [],
   "source": []
  },
  {
   "cell_type": "markdown",
   "id": "f5e9a8c0-8f75-4da4-9901-5677324623c8",
   "metadata": {},
   "source": [
    "### <font color='red'>5.Feature Scaling </font>"
   ]
  },
  {
   "cell_type": "code",
   "execution_count": 64,
   "id": "4b1872e0-718c-4b23-9765-13dac68756f3",
   "metadata": {},
   "outputs": [
    {
     "name": "stdout",
     "output_type": "stream",
     "text": [
      "[[ 0.83743579 -1.48467637 -0.10082748 -0.89325451  0.         -0.53452248]\n",
      " [-0.27914526 -0.26717411 -0.10082748  0.7505621   0.         -0.53452248]\n",
      " [ 0.83743579  0.34157702 -1.2437349  -1.30420866  0.         -0.53452248]\n",
      " [-0.27914526  0.95032816 -0.94742557 -0.07134621  0.         -0.53452248]\n",
      " [ 0.83743579 -1.11942569 -0.52412653  0.7505621   0.         -0.53452248]\n",
      " [-0.27914526  0.09807657 -0.10082748 -1.30420866  0.         -0.53452248]\n",
      " [ 0.83743579  0.09807657  0.32247156 -0.89325451  0.          1.87082869]\n",
      " [-0.27914526 -1.11942569  0.74577061  0.7505621   0.          1.87082869]\n",
      " [ 0.83743579  0.2198268   1.16906965 -1.30420866  0.          1.87082869]\n",
      " [-1.39572632  1.55907929  1.5923687  -0.07134621  0.         -0.53452248]\n",
      " [-1.39572632 -1.11942569 -0.10082748  0.7505621   0.         -0.53452248]\n",
      " [-1.39572632  0.2198268  -1.75635005 -1.30420866  0.         -0.53452248]\n",
      " [-1.39572632  1.55907929 -0.10082748 -0.89325451  0.         -0.53452248]\n",
      " [-1.39572632 -1.72817683 -1.69497168  0.7505621   0.         -0.53452248]\n",
      " [-0.27914526  0.95032816 -0.94742557 -1.30420866  0.         -0.53452248]\n",
      " [ 0.83743579 -1.11942569 -0.94742557 -0.07134621  0.         -0.53452248]\n",
      " [-0.27914526 -1.11942569 -0.9347266   1.98342455  0.         -0.53452248]\n",
      " [ 0.83743579  0.2198268  -0.10082748 -0.48230036  0.         -0.53452248]\n",
      " [ 0.83743579 -1.24117592 -0.10082748 -0.89325451  0.         -0.53452248]\n",
      " [-0.27914526 -0.02367366 -0.10082748  0.7505621   0.         -0.53452248]\n",
      " [ 0.83743579  0.58507748 -0.92837711 -1.30420866  0.         -0.53452248]\n",
      " [-0.27914526  2.16783042 -0.86953855 -0.07134621  0.         -0.53452248]\n",
      " [ 0.83743579 -1.36292615 -0.17532811  0.7505621   0.         -0.53452248]\n",
      " [-0.27914526  0.09807657  0.25262722 -0.48230036  0.         -0.53452248]\n",
      " [ 0.83743579  0.09807657  0.78132773 -0.89325451  0.          1.87082869]\n",
      " [-0.27914526 -1.11942569  1.56824065  0.7505621   0.          1.87082869]\n",
      " [ 0.83743579  0.2198268   1.31510783 -1.30420866  0.          1.87082869]\n",
      " [-1.39572632  1.55907929  1.71258563 -0.07134621  0.          1.87082869]\n",
      " [-1.39572632 -1.11942569  1.96317866  0.7505621   0.          1.87082869]\n",
      " [-1.39572632  0.34157702 -1.35633245 -0.48230036  0.         -0.53452248]\n",
      " [-1.39572632  1.68082952  1.02260818 -0.89325451  0.         -0.53452248]\n",
      " [-1.39572632 -1.48467637 -0.97536331  0.7505621   0.         -0.53452248]\n",
      " [-0.27914526  1.55907929 -0.50973436 -1.30420866  0.         -0.53452248]\n",
      " [ 0.83743579  0.46332725 -0.08643531  0.7505621   0.         -0.53452248]\n",
      " [-0.27914526 -0.75417501  1.25457606  0.7505621   0.         -0.53452248]\n",
      " [ 0.83743579  0.34157702  1.60252788  0.7505621   0.          1.87082869]\n",
      " [ 0.83743579 -0.02367366 -0.10082748  1.5724704   0.         -0.53452248]\n",
      " [ 1.95401684  0.34157702 -0.10082748  0.33960794  0.         -0.53452248]\n",
      " [ 0.83743579  0.2198268  -1.2437349  -1.30420866  0.         -0.53452248]\n",
      " [-0.27914526  1.07207838 -0.94742557  0.7505621   0.         -0.53452248]\n",
      " [ 0.83743579 -0.99767547 -0.37808836 -1.30420866  0.         -0.53452248]\n",
      " [-0.27914526  0.09807657 -0.10082748  0.7505621   0.         -0.53452248]\n",
      " [ 0.83743579  0.09807657  0.32247156  0.7505621   0.         -0.53452248]\n",
      " [-0.27914526 -0.87592524  0.74577061  0.7505621   0.         -0.53452248]\n",
      " [ 0.83743579  0.34157702  1.16906965  1.5724704   0.          1.87082869]\n",
      " [-1.39572632  1.68082952  1.5923687   0.33960794  0.          1.87082869]\n",
      " [-1.39572632 -0.99767547 -0.10082748 -1.30420866  0.         -0.53452248]\n",
      " [-1.39572632 -0.02367366 -1.75635005  0.7505621   0.         -0.53452248]\n",
      " [-1.39572632  1.31557884 -0.10082748  0.7505621   0.         -0.53452248]\n",
      " [-1.39572632 -1.6064266  -1.69497168 -0.48230036  0.         -0.53452248]\n",
      " [-0.27914526  1.07207838 -0.94742557 -0.89325451  0.         -0.53452248]\n",
      " [ 1.95401684 -0.99767547 -0.94742557  0.7505621   0.         -0.53452248]\n",
      " [-0.27914526 -1.36292615 -0.9347266  -1.30420866  0.         -0.53452248]\n",
      " [ 0.83743579  0.34157702 -0.10082748 -0.07134621  0.         -0.53452248]\n",
      " [ 0.83743579 -1.36292615  0.55274624  0.7505621   0.         -0.53452248]\n",
      " [-0.27914526 -0.02367366  1.02260818 -0.48230036  0.         -0.53452248]\n",
      " [ 0.83743579  0.7068277  -0.92837711  1.5724704   0.         -0.53452248]\n",
      " [-0.27914526  2.28958065 -0.86953855  0.33960794  0.         -0.53452248]\n",
      " [ 0.83743579 -1.11942569 -0.17532811 -1.30420866  0.         -0.53452248]\n",
      " [-0.27914526  0.09807657  0.25262722  0.7505621   0.         -0.53452248]\n",
      " [ 0.83743579  0.09807657  0.78132773 -1.30420866  0.         -0.53452248]\n",
      " [ 1.95401684 -0.87592524  1.56824065  0.7505621   0.          1.87082869]\n",
      " [ 1.39572632  0.46332725  1.31510783  0.7505621   0.          1.87082869]\n",
      " [-1.39572632  1.07207838  1.71258563  0.7505621   0.          1.87082869]\n",
      " [ 1.95401684 -0.87592524  0.55232295  1.5724704   0.         -0.53452248]\n",
      " [-1.39572632 -0.14542388 -1.35633245  0.33960794  0.         -0.53452248]\n",
      " [-1.39572632  1.07207838 -0.10082748 -1.30420866  0.         -0.53452248]\n",
      " [-0.83743579 -1.36292615 -0.97536331  0.7505621   0.         -0.53452248]\n",
      " [-0.27914526  1.31557884 -0.50973436  0.7505621   0.         -0.53452248]\n",
      " [ 0.83743579 -0.02367366 -0.08643531 -0.48230036  0.         -0.53452248]\n",
      " [ 0.27914526 -1.36292615  1.25457606 -0.89325451  0.         -0.53452248]\n",
      " [ 0.83743579  0.2198268   1.60252788  0.7505621   0.          1.87082869]\n",
      " [ 0.83743579 -0.99767547 -0.10082748 -1.30420866  0.         -0.53452248]\n",
      " [-0.27914526  0.2198268  -0.10082748 -0.07134621  0.         -0.53452248]\n",
      " [ 0.83743579  0.58507748 -1.2437349   0.7505621   0.         -0.53452248]\n",
      " [-0.27914526  1.43732906 -0.94742557 -0.48230036  0.         -0.53452248]\n",
      " [ 0.83743579 -0.02367366 -0.52412653  1.5724704   0.         -0.53452248]\n",
      " [-0.27914526  0.09807657 -0.10082748  0.33960794  0.         -0.53452248]\n",
      " [ 0.83743579  0.09807657  0.32247156 -1.30420866  0.         -0.53452248]\n",
      " [-0.27914526 -0.75417501  0.74577061 -1.71516281  0.         -0.53452248]\n",
      " [ 0.83743579 -0.02367366  1.16906965  1.16151625  0.         -0.53452248]\n",
      " [-1.39572632  1.31557884  1.5923687   2.3943787   0.          1.87082869]\n",
      " [-1.39572632 -1.24117592 -0.10082748  2.3943787   0.         -0.53452248]\n",
      " [-1.39572632  0.09807657 -1.75635005 -0.89325451  0.         -0.53452248]\n",
      " [-1.39572632 -1.84992705 -1.69497168 -1.30420866  0.         -0.53452248]\n",
      " [-0.27914526  1.07207838 -0.94742557 -0.07134621  0.         -0.53452248]\n",
      " [ 0.83743579 -1.36292615 -0.94742557  0.7505621   0.         -0.53452248]\n",
      " [-0.27914526  0.09807657 -0.9347266  -1.30420866  0.         -0.53452248]\n",
      " [ 0.83743579  0.46332725 -0.10082748 -0.89325451  0.         -0.53452248]\n",
      " [ 0.83743579 -1.36292615 -0.10082748  0.7505621   0.         -0.53452248]\n",
      " [-0.27914526  0.2198268  -0.10082748 -1.30420866  0.         -0.53452248]\n",
      " [ 0.83743579  0.09807657 -0.92837711 -0.07134621  0.         -0.53452248]\n",
      " [-0.27914526  2.65483133 -0.86953855  0.7505621   0.         -0.53452248]\n",
      " [ 0.83743579 -1.24117592 -0.17532811 -1.30420866  0.         -0.53452248]\n",
      " [-0.27914526  0.09807657  0.25262722 -0.89325451  0.         -0.53452248]\n",
      " [ 0.83743579  0.09807657  0.78132773  0.7505621   0.          1.87082869]\n",
      " [-0.27914526 -1.24117592  1.56824065 -1.30420866  0.          1.87082869]\n",
      " [ 0.83743579  0.09807657  1.31510783 -0.07134621  0.          1.87082869]\n",
      " [-1.39572632  1.43732906  1.71258563  1.98342455  0.          1.87082869]\n",
      " [-1.39572632 -1.24117592 -0.10082748 -0.48230036  0.         -0.53452248]\n",
      " [-1.39572632  0.09807657 -1.35633245  1.98342455  0.         -0.53452248]\n",
      " [-1.39572632  1.43732906 -0.10082748  0.7505621   0.         -0.53452248]\n",
      " [-1.39572632 -1.24117592 -0.97536331 -1.30420866  0.         -0.53452248]\n",
      " [-0.27914526  1.43732906 -0.50973436 -0.07134621  0.         -0.53452248]\n",
      " [ 0.83743579  0.09807657 -0.08643531  0.7505621   0.         -0.53452248]\n",
      " [-0.27914526 -1.24117592  1.25457606 -0.48230036  0.          1.87082869]\n",
      " [ 0.83743579  0.09807657  1.60252788 -0.89325451  0.          1.87082869]\n",
      " [ 0.83743579  0.09807657 -0.10082748  0.7505621   0.         -0.53452248]\n",
      " [ 1.95401684  0.09807657 -0.10082748 -1.30420866  0.         -0.53452248]\n",
      " [ 0.83743579  0.09807657 -1.2437349  -0.07134621  0.         -0.53452248]\n",
      " [-0.27914526  0.09807657 -0.84837359  0.7505621   0.         -0.53452248]\n",
      " [ 0.83743579 -1.24117592 -0.38697764 -0.48230036  0.         -0.53452248]\n",
      " [-0.27914526  0.09807657  0.0833076  -0.89325451  0.         -0.53452248]\n",
      " [ 0.83743579  0.09807657  0.13410349  0.7505621   0.         -0.53452248]\n",
      " [-0.27914526 -1.24117592  1.502206   -1.30420866  0.         -0.53452248]\n",
      " [ 0.83743579  0.09807657  1.502206    0.7505621   0.          1.87082869]\n",
      " [-1.39572632  1.43732906  1.96317866  0.7505621   0.          1.87082869]\n",
      " [-1.39572632 -1.24117592 -0.10082748  0.7505621   0.         -0.53452248]\n",
      " [-1.39572632  0.09807657 -1.75635005  1.5724704   0.         -0.53452248]\n",
      " [-1.39572632  1.43732906 -0.10082748  0.33960794  0.         -0.53452248]\n",
      " [-1.39572632  0.09807657 -1.69497168 -1.30420866  0.         -0.53452248]\n",
      " [-0.27914526  1.43732906 -0.84837359  0.7505621   0.         -0.53452248]\n",
      " [ 1.95401684  0.09807657 -0.7552478  -1.30420866  0.         -0.53452248]\n",
      " [-0.27914526 -1.24117592  1.502206   -1.30420866  0.          1.87082869]\n",
      " [ 0.83743579  0.09807657  0.17601009  0.7505621   0.          1.87082869]\n",
      " [ 0.83743579 -1.48467637 -0.09701779  0.7505621   0.          1.87082869]\n",
      " [-0.27914526 -0.26717411 -0.05934417  1.5724704   0.         -0.53452248]\n",
      " [ 0.83743579  0.09807657 -0.92837711  0.33960794  0.         -0.53452248]\n",
      " [-0.27914526  2.16783042 -0.86953855 -1.30420866  0.         -0.53452248]\n",
      " [ 0.83743579  0.09807657  0.78132773 -0.48230036  0.          1.87082869]\n",
      " [ 1.95401684 -1.24117592  1.56824065 -0.89325451  0.         -0.53452248]\n",
      " [ 1.39572632 -0.14542388  1.31510783  0.7505621   0.         -0.53452248]\n",
      " [-1.39572632  0.95032816  1.71258563 -1.30420866  0.          1.87082869]\n",
      " [ 1.95401684  0.09807657 -0.10082748 -0.07134621  0.         -0.53452248]\n",
      " [-1.39572632 -0.14542388 -1.35633245  0.7505621   0.         -0.53452248]\n",
      " [-1.39572632  1.43732906 -0.9334567  -0.48230036  0.         -0.53452248]\n",
      " [-0.83743579 -1.24117592 -0.97536331  1.5724704   0.         -0.53452248]\n",
      " [-0.27914526  1.43732906 -0.50973436  0.33960794  0.         -0.53452248]\n",
      " [ 0.83743579  0.09807657 -0.08643531 -1.30420866  0.         -0.53452248]\n",
      " [ 0.27914526 -1.24117592  1.25457606  0.7505621   0.         -0.53452248]\n",
      " [ 0.83743579  0.09807657  1.60252788 -1.30420866  0.          1.87082869]\n",
      " [-0.27914526  1.43732906 -0.50973436 -0.07134621  0.          1.87082869]\n",
      " [ 0.83743579  0.09807657 -0.08643531  0.7505621   0.          1.87082869]\n",
      " [-0.27914526 -1.24117592  1.25457606 -0.48230036  0.         -0.53452248]]\n"
     ]
    }
   ],
   "source": [
    "from sklearn.preprocessing import StandardScaler\n",
    "standard_scaler = StandardScaler()\n",
    "print(standard_scaler.fit_transform(df))\n"
   ]
  },
  {
   "cell_type": "code",
   "execution_count": null,
   "id": "1d683903-feb9-4f66-8e9f-4e640717e578",
   "metadata": {},
   "outputs": [],
   "source": [
    " #using MinMaxScaler\n",
    "from sklearn.preprocessing import MinMaxScaler\n",
    "\n",
    "min_max_scaler = MinMaxScaler()\n",
    "print(min_max_scaler.fit_transform(df))"
   ]
  },
  {
   "cell_type": "code",
   "execution_count": 66,
   "id": "88707965-1097-46d6-bca2-fc179bc3d2f1",
   "metadata": {},
   "outputs": [
    {
     "name": "stdout",
     "output_type": "stream",
     "text": [
      "<class 'pandas.core.frame.DataFrame'>\n",
      "Index: 144 entries, 0 to 147\n",
      "Data columns (total 6 columns):\n",
      " #   Column   Non-Null Count  Dtype  \n",
      "---  ------   --------------  -----  \n",
      " 0   Company  144 non-null    int32  \n",
      " 1   Age      144 non-null    float64\n",
      " 2   Salary   144 non-null    float64\n",
      " 3   Place    144 non-null    int32  \n",
      " 4   Country  144 non-null    int32  \n",
      " 5   Gender   144 non-null    int64  \n",
      "dtypes: float64(2), int32(3), int64(1)\n",
      "memory usage: 6.2 KB\n"
     ]
    }
   ],
   "source": [
    "df.info()"
   ]
  },
  {
   "cell_type": "code",
   "execution_count": null,
   "id": "734bbf25-d31e-4e60-a300-1c5d4a975086",
   "metadata": {},
   "outputs": [],
   "source": []
  }
 ],
 "metadata": {
  "kernelspec": {
   "display_name": "Python 3 (ipykernel)",
   "language": "python",
   "name": "python3"
  },
  "language_info": {
   "codemirror_mode": {
    "name": "ipython",
    "version": 3
   },
   "file_extension": ".py",
   "mimetype": "text/x-python",
   "name": "python",
   "nbconvert_exporter": "python",
   "pygments_lexer": "ipython3",
   "version": "3.11.5"
  }
 },
 "nbformat": 4,
 "nbformat_minor": 5
}
