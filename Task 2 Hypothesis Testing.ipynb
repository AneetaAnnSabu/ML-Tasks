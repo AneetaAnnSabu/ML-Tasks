{
 "cells": [
  {
   "cell_type": "markdown",
   "id": "e62556a0-31c5-42ae-9f00-f7ccb26675fa",
   "metadata": {},
   "source": [
    "### ML - Task2 - Hypothesis testing\r\n",
    "Q1.Suppose a child psychologist claims that the average time working mothers spend talking to their children is at least 11 minutes per day. You conduct a random sample of 1000 working mothers and find they spend an average of 11.5 minutes per day talking with their children. Assume prior research suggests the population standard deviation is 2.3 minutes.Conduct a test with a level of significance of alpha = 0.05.im\r\n"
   ]
  },
  {
   "cell_type": "markdown",
   "id": "53de3b68-72de-40c7-9f88-34daa0bcf763",
   "metadata": {},
   "source": [
    "## null hypothesis>=11\n",
    "## alternate hpothesis<11"
   ]
  },
  {
   "cell_type": "code",
   "execution_count": 1,
   "id": "4ef9226b-5ba1-489f-8a75-a47236f04f0e",
   "metadata": {},
   "outputs": [],
   "source": [
    "import scipy.stats as stats"
   ]
  },
  {
   "cell_type": "code",
   "execution_count": 2,
   "id": "9ee94654-bdea-499a-8a94-9be0e4bf9596",
   "metadata": {},
   "outputs": [],
   "source": [
    "#Given data\n",
    "sample_mean=11.5\n",
    "hypothesized_mean=11\n",
    "std_dev=2.3\n",
    "alpha=0.05\n",
    "sample_size=1000\n"
   ]
  },
  {
   "cell_type": "code",
   "execution_count": 3,
   "id": "2a6b18b8-4fb9-4843-b786-ec84576925f4",
   "metadata": {},
   "outputs": [],
   "source": [
    "#z-score\n",
    "z=(sample_mean-hypothesized_mean)/(std_dev/(sample_size**0.5))"
   ]
  },
  {
   "cell_type": "code",
   "execution_count": 4,
   "id": "5c7fd56a-1fd4-46a1-b0af-91b6cb137c49",
   "metadata": {},
   "outputs": [],
   "source": [
    "#finding critical value\n",
    "critical_value=stats.norm.ppf(alpha)"
   ]
  },
  {
   "cell_type": "code",
   "execution_count": 5,
   "id": "446786c6-5845-4280-8692-8d3fb34ffafe",
   "metadata": {},
   "outputs": [
    {
     "name": "stdout",
     "output_type": "stream",
     "text": [
      "test statistics=6.874516652539955\n",
      "critical value=-1.6448536269514729\n"
     ]
    }
   ],
   "source": [
    "print(f'test statistics={z}')\n",
    "print(f'critical value={critical_value}')"
   ]
  },
  {
   "cell_type": "code",
   "execution_count": 6,
   "id": "03af0297-12a1-42b4-b2c6-ec472f0aac16",
   "metadata": {},
   "outputs": [
    {
     "name": "stdout",
     "output_type": "stream",
     "text": [
      "null hypothesis failed to reject\n"
     ]
    }
   ],
   "source": [
    "if z<critical_value:\n",
    "    print('null hypothesis failed')\n",
    "else:\n",
    "    print('null hypothesis failed to reject')"
   ]
  },
  {
   "cell_type": "markdown",
   "id": "b4679d71-77da-4888-afff-ab40c33afe6b",
   "metadata": {},
   "source": [
    "### The child psychologist claims that the average time working mothers spend talking to their children is at least 11 minutes daily is true."
   ]
  },
  {
   "cell_type": "markdown",
   "id": "286b30b2-66b9-4b47-a1ed-c1ca7aab2465",
   "metadata": {},
   "source": [
    "### Q2. A coffee shop claims that their average wait time for customers is less than 5 minutes. To test this claim, a sample of 40 customers is taken, and their wait times are recorded. The sample mean wait time is found to be 4.6 minutes with a standard deviation of 0.8 minutes. Perform a hypothesis test at a significance level of 0.05 and determine whether there is enough evidence to support the coffee shop's claim"
   ]
  },
  {
   "cell_type": "code",
   "execution_count": null,
   "id": "33e29c83-b019-4db0-8b78-123f62b603ae",
   "metadata": {},
   "outputs": [],
   "source": [
    "### null hypothesis>=5\n",
    "### alternate hypothesis<5"
   ]
  },
  {
   "cell_type": "code",
   "execution_count": 10,
   "id": "eb75faf5-b104-4e3a-905c-6e6d4415fc42",
   "metadata": {},
   "outputs": [],
   "source": [
    "sample_size_=40\n",
    "hypothesized_mean_=5\n",
    "sample_mean_=4.6\n",
    "std_dev_=0.8\n",
    "alpha_=0.05"
   ]
  },
  {
   "cell_type": "code",
   "execution_count": 12,
   "id": "81cfaa98-8bc5-4abc-97d2-db2379837a90",
   "metadata": {},
   "outputs": [],
   "source": [
    "#z-score\n",
    "z_=(sample_mean_-hypothesized_mean_)/(std_dev_/(sample_size_**0.5))"
   ]
  },
  {
   "cell_type": "code",
   "execution_count": 13,
   "id": "95045e04-5ce4-4fd8-aded-612bb47f6176",
   "metadata": {},
   "outputs": [],
   "source": [
    "#critical value\n",
    "critical_value_=stats.norm.ppf(alpha_)"
   ]
  },
  {
   "cell_type": "code",
   "execution_count": 14,
   "id": "082b090f-a133-45fa-82d9-0c15adb76892",
   "metadata": {},
   "outputs": [
    {
     "name": "stdout",
     "output_type": "stream",
     "text": [
      "test statistics=-3.162277660168382\n",
      "critical_value_=-1.6448536269514729\n"
     ]
    }
   ],
   "source": [
    "print(f'test statistics={z_}')\n",
    "print(f'critical_value_={critical_value_}')"
   ]
  },
  {
   "cell_type": "code",
   "execution_count": 15,
   "id": "f9c08bb2-4ccc-4519-814f-d7fd0fcbfbf3",
   "metadata": {},
   "outputs": [
    {
     "name": "stdout",
     "output_type": "stream",
     "text": [
      "null hypothesis failed\n"
     ]
    }
   ],
   "source": [
    "if z_>critical_value:\n",
    "    print('null hypothesis failed to reject')\n",
    "else:\n",
    "    print('null hypothesis failed')"
   ]
  },
  {
   "cell_type": "markdown",
   "id": "90a0c1c1-61f2-4871-aaaf-b9a7c4d6c98a",
   "metadata": {},
   "source": [
    "### Coffee shops claim that their wait time is less than 5 minute is right. "
   ]
  },
  {
   "cell_type": "code",
   "execution_count": null,
   "id": "60d53d02-296e-4736-9719-d2926c2e2af0",
   "metadata": {},
   "outputs": [],
   "source": []
  }
 ],
 "metadata": {
  "kernelspec": {
   "display_name": "Python 3 (ipykernel)",
   "language": "python",
   "name": "python3"
  },
  "language_info": {
   "codemirror_mode": {
    "name": "ipython",
    "version": 3
   },
   "file_extension": ".py",
   "mimetype": "text/x-python",
   "name": "python",
   "nbconvert_exporter": "python",
   "pygments_lexer": "ipython3",
   "version": "3.11.5"
  }
 },
 "nbformat": 4,
 "nbformat_minor": 5
}
